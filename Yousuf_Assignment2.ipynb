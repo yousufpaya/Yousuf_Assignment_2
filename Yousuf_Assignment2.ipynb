{
 "cells": [
  {
   "cell_type": "code",
   "execution_count": 1,
   "id": "5ce960f2-d54e-4b62-ae20-b29d0475cc6f",
   "metadata": {},
   "outputs": [
    {
     "name": "stdin",
     "output_type": "stream",
     "text": [
      "Enter your Age:  17\n"
     ]
    },
    {
     "name": "stdout",
     "output_type": "stream",
     "text": [
      "You are a Teenager\n"
     ]
    }
   ],
   "source": [
    "# Question 1\n",
    "\n",
    "age = int(input(\"Enter your Age: \"))\n",
    "\n",
    "if (age >= 0 and age <= 12):\n",
    "    print(\"You are a Child\")\n",
    "elif (age >= 13 and age <= 19):\n",
    "    print(\"You are a Teenager\")\n",
    "elif (age >= 20 and age <= 64):\n",
    "    print(\"You are an Adult\")    \n",
    "else:\n",
    "    print(\"You are a Senior\")"
   ]
  },
  {
   "cell_type": "code",
   "execution_count": 3,
   "id": "5b8c75c5-eabf-47af-a991-9c51f77da57b",
   "metadata": {},
   "outputs": [
    {
     "name": "stdin",
     "output_type": "stream",
     "text": [
      "Enter your Membership Status: premium\n",
      "Enter your Purchase Amount:  1000\n"
     ]
    },
    {
     "name": "stdout",
     "output_type": "stream",
     "text": [
      "You are eligible for discount\n"
     ]
    }
   ],
   "source": [
    "# Question 2: Checking for Eligibility for Discount\n",
    "\n",
    "cust_mem = input(\"Enter your Membership Status:\")\n",
    "pur_amt = int(input(\"Enter your Purchase Amount: \"))\n",
    "\n",
    "cust_mem = cust_mem.upper()\n",
    "\n",
    "if ((cust_mem) == \"PREMIUM\") and (pur_amt >= 1000):\n",
    "    print(\"You are eligible for discount\")\n",
    "elif ((cust_mem) == \"REGULAR\") and (pur_amt >= 2000):\n",
    "    print(\"You are eligible for discount\")\n",
    "else:\n",
    "    print(\"You are not eligible for discount\")"
   ]
  },
  {
   "cell_type": "code",
   "execution_count": 7,
   "id": "bd842486-f6ee-4a55-9ab5-81731b6c4438",
   "metadata": {},
   "outputs": [
    {
     "name": "stdin",
     "output_type": "stream",
     "text": [
      "Enter your Citizenship Status: citizen\n",
      "Enter your Age:  17\n",
      "Are you from a Special region where voting is allowed from age 16? Enter Yes or No: Yes\n"
     ]
    },
    {
     "name": "stdout",
     "output_type": "stream",
     "text": [
      "You are eligible for vote\n"
     ]
    }
   ],
   "source": [
    "# Question 3: Voting Eligibility Check\n",
    "\n",
    "citizen = input(\"Enter your Citizenship Status:\")\n",
    "age = int(input(\"Enter your Age: \"))\n",
    "region = input(\"Are you from a Special region where voting is allowed from age 16? Enter Yes or No:\")\n",
    "\n",
    "citizen = citizen.upper()\n",
    "region = region.upper()\n",
    "\n",
    "if (citizen == \"CITIZEN\") and (age >= 18):\n",
    "    print(\"You are eligible for vote\")\n",
    "elif (citizen == \"CITIZEN\") and (age >= 16) and region == \"YES\":\n",
    "    print(\"You are eligible for vote\")\n",
    "else:\n",
    "    print(\"You are not eligible for vote\")"
   ]
  },
  {
   "cell_type": "code",
   "execution_count": 9,
   "id": "67ffd4c5-b9c3-4d07-be60-02f8f85ebd07",
   "metadata": {},
   "outputs": [
    {
     "name": "stdin",
     "output_type": "stream",
     "text": [
      "Enter your Performance Rating: good\n",
      "Enter your Years of Service:  11\n"
     ]
    },
    {
     "name": "stdout",
     "output_type": "stream",
     "text": [
      "You are eligible for Salary Bonus\n"
     ]
    }
   ],
   "source": [
    "# Question 4: Employee Salary Bonus Eligibility\n",
    "\n",
    "rating = input(\"Enter your Performance Rating:\")\n",
    "service = int(input(\"Enter your Years of Service: \"))\n",
    "\n",
    "rating = rating.upper()\n",
    "\n",
    "if ((rating) == \"EXCELLENT\") and (service >= 5):\n",
    "    print(\"You are eligible for Salary Bonus\")\n",
    "elif ((rating) == \"GOOD\") and (service >= 10):\n",
    "    print(\"You are eligible for Salary Bonus\")\n",
    "elif ((rating) == \"SATISFACTORY\") and (service >= 15):\n",
    "    print(\"You are eligible for Salary Bonus\")\n",
    "else:\n",
    "    print(\"You are not eligible for Salary Bonus\")"
   ]
  },
  {
   "cell_type": "code",
   "execution_count": 11,
   "id": "9c4c928b-2eaa-4841-9511-5f6376395b85",
   "metadata": {},
   "outputs": [
    {
     "name": "stdin",
     "output_type": "stream",
     "text": [
      "Enter your text to replace spaces with underscores This is a test data\n"
     ]
    },
    {
     "name": "stdout",
     "output_type": "stream",
     "text": [
      "New text is: This_is_a_test_data\n",
      "Total underscores are: 4\n",
      "The position of first underscore is: 4\n"
     ]
    }
   ],
   "source": [
    "# Question 5. \n",
    "\n",
    "input_text = input (\"Enter your text to replace spaces with underscores\")\n",
    "input_text = input_text.replace(\" \", \"_\")\n",
    "count = input_text.count(\"_\")\n",
    "position = input_text.index(\"_\")\n",
    "print (\"New text is: \"+ input_text)\n",
    "print(\"Total underscores are: \"+ str(count))\n",
    "print (\"The position of first underscore is: \"+ str(position))"
   ]
  },
  {
   "cell_type": "code",
   "execution_count": 13,
   "id": "89603140-7dfa-45a2-b11b-6cc7fda23f2f",
   "metadata": {},
   "outputs": [
    {
     "name": "stdin",
     "output_type": "stream",
     "text": [
      "Enter your string data:  Enter your string data\n"
     ]
    },
    {
     "name": "stdout",
     "output_type": "stream",
     "text": [
      "String data without the last 3 characters are: Enter your string d\n",
      "Every second character of the string is: Etryu tigdt\n",
      "String data in reverse:atad gnirts ruoy retnE\n"
     ]
    }
   ],
   "source": [
    "#Question 6: \n",
    "\n",
    "\n",
    "string_data = input(\"Enter your string data: \")\n",
    "print(\"String data without the last 3 characters are:\", string_data[:-3])\n",
    "print(\"Every second character of the string is:\", string_data[::2])\n",
    "print(\"String data in reverse:\" + string_data[::-1])"
   ]
  },
  {
   "cell_type": "code",
   "execution_count": 15,
   "id": "522587b8-b77d-4900-aa56-d3270ffa5ad4",
   "metadata": {},
   "outputs": [
    {
     "name": "stdout",
     "output_type": "stream",
     "text": [
      "Reverse sentence is:Python learning are We World, Hello\n"
     ]
    }
   ],
   "source": [
    "# Question 7. \n",
    "\n",
    "sentence = \"Hello World, We are learning Python\"\n",
    "reverse_order = sentence.split()\n",
    "reverseWord = reverse_order[::-1]\n",
    "reversesentence = \" \".join(reverseWord)\n",
    "print(\"Reverse sentence is:\" + reversesentence)"
   ]
  },
  {
   "cell_type": "code",
   "execution_count": 17,
   "id": "0710103f-12de-431b-a288-c8078daec168",
   "metadata": {},
   "outputs": [
    {
     "name": "stdout",
     "output_type": "stream",
     "text": [
      "The product number is: 12345\n"
     ]
    }
   ],
   "source": [
    "# Question 8. \n",
    "\n",
    "pcode = \"SKU-12345-XYZ\"\n",
    "firstindex = pcode.find('-') + 1\n",
    "lastindex = pcode.rfind('-')\n",
    "num = pcode[firstindex:lastindex]\n",
    "print(\"The product number is: \" + num)"
   ]
  },
  {
   "cell_type": "code",
   "execution_count": 19,
   "id": "d32fbcef-3aa1-4d78-aadc-41b728aa28cc",
   "metadata": {},
   "outputs": [
    {
     "name": "stdin",
     "output_type": "stream",
     "text": [
      "Enter your password testPassword\n"
     ]
    },
    {
     "name": "stdout",
     "output_type": "stream",
     "text": [
      "String contains uppercase character : True\n",
      "String contains lowercase character : True\n"
     ]
    }
   ],
   "source": [
    "# Question 9. \n",
    "\n",
    "user_password = input(\"Enter your password\")\n",
    " \n",
    "res = any(ele.isupper() for ele in user_password)\n",
    "\n",
    "print(\"String contains uppercase character : \" + str(res))\n",
    "\n",
    "res1 = any(ele.islower() for ele in user_password)\n",
    "\n",
    "print(\"String contains lowercase character : \" + str(res1))"
   ]
  },
  {
   "cell_type": "code",
   "execution_count": 21,
   "id": "e31e06f5-beab-4251-8fe7-ca7024d75610",
   "metadata": {},
   "outputs": [
    {
     "name": "stdin",
     "output_type": "stream",
     "text": [
      "Enter your sentence:  This is a longest word search program\n"
     ]
    },
    {
     "name": "stdout",
     "output_type": "stream",
     "text": [
      "Longest word is: longest\n"
     ]
    }
   ],
   "source": [
    "# Question 10: Find the Longest Word\n",
    "\n",
    "input_text = input(\"Enter your sentence: \")\n",
    "data = input_text.split()  \n",
    "longestword = max(data, key=len)\n",
    "print(\"Longest word is: \" + longestword)"
   ]
  },
  {
   "cell_type": "code",
   "execution_count": null,
   "id": "13e447e4-d219-49dd-8a66-0f993437eb28",
   "metadata": {},
   "outputs": [],
   "source": []
  },
  {
   "cell_type": "code",
   "execution_count": null,
   "id": "b7f5ede7-0cba-47a0-8377-3efbc36da027",
   "metadata": {},
   "outputs": [],
   "source": []
  },
  {
   "cell_type": "code",
   "execution_count": null,
   "id": "6fae2a8b-3441-44e7-bdaa-d9a4a794a671",
   "metadata": {},
   "outputs": [],
   "source": []
  }
 ],
 "metadata": {
  "kernelspec": {
   "display_name": "Python [conda env:base] *",
   "language": "python",
   "name": "conda-base-py"
  },
  "language_info": {
   "codemirror_mode": {
    "name": "ipython",
    "version": 3
   },
   "file_extension": ".py",
   "mimetype": "text/x-python",
   "name": "python",
   "nbconvert_exporter": "python",
   "pygments_lexer": "ipython3",
   "version": "3.12.7"
  }
 },
 "nbformat": 4,
 "nbformat_minor": 5
}
